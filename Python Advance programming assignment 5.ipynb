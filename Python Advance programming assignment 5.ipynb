{
 "cells": [
  {
   "cell_type": "markdown",
   "id": "a7c2f393",
   "metadata": {},
   "source": [
    "# 1. Create a function that takes a number n (integer greater than zero) as an argument, and returns 2 if n is odd and 8 if n is even.\n",
    "\n",
    "You can only use the following arithmetic operators: addition of numbers +, subtraction of numbers -, multiplication of number *, division of number /, and exponentiation **.\n",
    "\n",
    "You are not allowed to use any other methods in this challenge (i.e. no if statements, comparison operators, etc).\n",
    "\n",
    "Examples\n",
    "\n",
    "f(1) ➞ 2\n",
    "\n",
    "f(2) ➞ 8\n",
    "\n",
    "f(3) ➞ 2\n"
   ]
  },
  {
   "cell_type": "code",
   "execution_count": 1,
   "id": "66802372",
   "metadata": {},
   "outputs": [],
   "source": [
    "def f(num):\n",
    "    evenOddList = [8,2]\n",
    "    return evenOddList[num & 1]"
   ]
  },
  {
   "cell_type": "code",
   "execution_count": 2,
   "id": "c52b7d87",
   "metadata": {},
   "outputs": [
    {
     "data": {
      "text/plain": [
       "2"
      ]
     },
     "execution_count": 2,
     "metadata": {},
     "output_type": "execute_result"
    }
   ],
   "source": [
    "f(1)"
   ]
  },
  {
   "cell_type": "code",
   "execution_count": 3,
   "id": "ebf44ef6",
   "metadata": {},
   "outputs": [
    {
     "data": {
      "text/plain": [
       "8"
      ]
     },
     "execution_count": 3,
     "metadata": {},
     "output_type": "execute_result"
    }
   ],
   "source": [
    "f(2)"
   ]
  },
  {
   "cell_type": "code",
   "execution_count": 4,
   "id": "79a54073",
   "metadata": {},
   "outputs": [
    {
     "data": {
      "text/plain": [
       "2"
      ]
     },
     "execution_count": 4,
     "metadata": {},
     "output_type": "execute_result"
    }
   ],
   "source": [
    "f(3)"
   ]
  },
  {
   "cell_type": "markdown",
   "id": "ff8c5d5f",
   "metadata": {},
   "source": [
    "# 2. Create a function that returns the majority vote in a list. A majority vote is an element that occurs > N/2 times in a list (where N is the length of the list).\n",
    "\n",
    "Examples\n",
    "\n",
    "majority_vote([\"A\", \"A\", \"B\"]) ➞ \"A\"\n",
    "\n",
    "majority_vote([\"A\", \"A\", \"A\", \"B\", \"C\", \"A\"]) ➞ \"A\"\n",
    "\n",
    "majority_vote([\"A\", \"B\", \"B\", \"A\", \"C\", \"C\"]) ➞ None\n"
   ]
  },
  {
   "cell_type": "code",
   "execution_count": 5,
   "id": "10a76c07",
   "metadata": {},
   "outputs": [],
   "source": [
    "def majority_vote(lst):\n",
    "    done = []\n",
    "    maxCount = 0\n",
    "    count = 0\n",
    "    for i in lst:\n",
    "        if i not in done:\n",
    "            count = lst.count(i)\n",
    "            done.append(i)\n",
    "            if count > maxCount:\n",
    "                maxCount = count\n",
    "                ele = i\n",
    "\n",
    "    if maxCount > len(lst)//2:\n",
    "        maxCount = count\n",
    "        return \"Majority Element \",ele\n",
    "    else:\n",
    "        return \"no majority elements\""
   ]
  },
  {
   "cell_type": "code",
   "execution_count": 6,
   "id": "e3aff396",
   "metadata": {},
   "outputs": [
    {
     "data": {
      "text/plain": [
       "('Majority Element ', 'A')"
      ]
     },
     "execution_count": 6,
     "metadata": {},
     "output_type": "execute_result"
    }
   ],
   "source": [
    "majority_vote([\"A\", \"A\", \"B\"])"
   ]
  },
  {
   "cell_type": "code",
   "execution_count": 7,
   "id": "fa4020af",
   "metadata": {},
   "outputs": [
    {
     "data": {
      "text/plain": [
       "('Majority Element ', 'A')"
      ]
     },
     "execution_count": 7,
     "metadata": {},
     "output_type": "execute_result"
    }
   ],
   "source": [
    "majority_vote([\"A\", \"A\", \"A\", \"B\", \"C\", \"A\"]) "
   ]
  },
  {
   "cell_type": "markdown",
   "id": "9a6e5a84",
   "metadata": {},
   "source": [
    "# 3. Create a function that takes a string txt and censors any word from a given list lst. The text removed must be replaced by the given character char.\n",
    "\n",
    "Examples\n",
    "\n",
    "censor_string(\"Today is a Wednesday!\", [\"Today\", \"a\"], \"-\") ➞ \"----- is - Wednesday!\"\n",
    "\n",
    "censor_string(\"The cow jumped over the moon.\", [\"cow\", \"over\"], \"*\"), \"The *** jumped **** the moon.\")\n",
    "\n",
    "censor_string(\"Why did the chicken cross the road?\", [\"Did\", \"chicken\", \"road\"], \"*\") ➞ \"Why *** the ******* cross the ****?\"\n"
   ]
  },
  {
   "cell_type": "code",
   "execution_count": 8,
   "id": "c483bbc1",
   "metadata": {},
   "outputs": [],
   "source": [
    "def censor_string(text, censorlst, replacer):\n",
    "\n",
    "    word_list = text.split()\n",
    "    for censor in censorlst:\n",
    "        index = 0\n",
    "        for word in word_list:\n",
    "            if censor.lower() == word.lower():\n",
    "                ch = len(censor) * replacer\n",
    "                word_list[index] = ch\n",
    "            elif censor.lower() == word[0:-1].lower():\n",
    "                ch = len(censor) * replacer\n",
    "                word_list[index] = ch+word[-1]\n",
    "            index+=1\n",
    "\n",
    "    return \" \".join(word_list)"
   ]
  },
  {
   "cell_type": "code",
   "execution_count": 9,
   "id": "7416f226",
   "metadata": {},
   "outputs": [
    {
     "data": {
      "text/plain": [
       "'----- is - Wednesday!'"
      ]
     },
     "execution_count": 9,
     "metadata": {},
     "output_type": "execute_result"
    }
   ],
   "source": [
    "censor_string(\"Today is a Wednesday!\", [\"Today\", \"a\"], \"-\") "
   ]
  },
  {
   "cell_type": "code",
   "execution_count": 10,
   "id": "45402449",
   "metadata": {},
   "outputs": [
    {
     "data": {
      "text/plain": [
       "'The *** jumped **** the moon.'"
      ]
     },
     "execution_count": 10,
     "metadata": {},
     "output_type": "execute_result"
    }
   ],
   "source": [
    "censor_string(\"The cow jumped over the moon.\", [\"cow\", \"over\"], \"*\")"
   ]
  },
  {
   "cell_type": "code",
   "execution_count": null,
   "id": "7ffaef83",
   "metadata": {},
   "outputs": [],
   "source": []
  },
  {
   "cell_type": "markdown",
   "id": "dc90f22f",
   "metadata": {},
   "source": [
    "# 4. In mathematics a Polydivisible Number (or magic number) is a number in a given number base with digits abcde... that has the following properties:\n",
    "\n",
    "-  Its first digit a is not 0.\n",
    "- The number formed by its first two digits ab is a multiple of 2.\n",
    "- The number formed by its first three digits abc is a multiple of 3.\n",
    "- The number formed by its first four digits abcd is a multiple of 4.\n",
    "\n",
    "Create a function which takes an integer n and returns True if the given number is a Polydivisible Number and False otherwise.\n",
    "\n",
    "Examples\n",
    "\n",
    "is_polydivisible(1232) ➞ True\n",
    "# 1     / 1 = 1\n",
    "# 12    / 2 = 6\n",
    "# 123   / 3 = 41\n",
    "# 1232  / 4 = 308\n",
    "\n",
    "is_polydivisible(123220 ) ➞ False\n",
    "# 1   / 1 = 1\n",
    "# 12   / 2 = 6\n",
    "# 123   / 3 = 41\n",
    "# 1232   / 4 = 308\n",
    "# 12322   / 5 = 2464.4         # Not a Whole Number\n",
    "# 123220   /6 = 220536.333...  # Not a Whole Number\n"
   ]
  },
  {
   "cell_type": "code",
   "execution_count": 11,
   "id": "46579beb",
   "metadata": {},
   "outputs": [],
   "source": [
    "def is_polydivisible(n):\n",
    "    tempNum = n\n",
    "    digit = []\n",
    "  \n",
    "    # digit extraction of input number\n",
    "    while (n > 0):          \n",
    "        digit.append(n % 10)\n",
    "        n /= 10\n",
    "  \n",
    "    digit.reverse()\n",
    "  \n",
    "    flag = True\n",
    "    n = digit[0]\n",
    "    for i in range(1, len(digit)):\n",
    "\n",
    "        n = n * 10 + digit[i] # second digit  \n",
    "   \n",
    "        if (n % (i + 1) != 0):\n",
    "            flag = False\n",
    "            break\n",
    "      \n",
    "    if (flag):\n",
    "        return tempNum, \"is Polydivisible number.\"\n",
    "    else:\n",
    "        return tempNum, \"is Not Polydivisible number.\""
   ]
  },
  {
   "cell_type": "code",
   "execution_count": 12,
   "id": "0f4f8c5e",
   "metadata": {},
   "outputs": [
    {
     "data": {
      "text/plain": [
       "(1232, 'is Not Polydivisible number.')"
      ]
     },
     "execution_count": 12,
     "metadata": {},
     "output_type": "execute_result"
    }
   ],
   "source": [
    "is_polydivisible(1232)"
   ]
  },
  {
   "cell_type": "markdown",
   "id": "5b1b3a90",
   "metadata": {},
   "source": [
    "# 5. Create a function that takes a list of numbers and returns the sum of all prime numbers in the list.\n",
    "\n",
    "Examples\n",
    "\n",
    "sum_primes([1, 2, 3, 4, 5, 6, 7, 8, 9, 10]) ➞ 17\n",
    "\n",
    "sum_primes([2, 3, 4, 11, 20, 50, 71]) ➞ 87\n",
    "\n",
    "sum_primes([]) ➞ None\n"
   ]
  },
  {
   "cell_type": "code",
   "execution_count": 13,
   "id": "67e14d4f",
   "metadata": {},
   "outputs": [],
   "source": [
    "def is_prime(n):\n",
    "    if n < 2:\n",
    "        return False\n",
    "    elif n <= 3:\n",
    "        return True\n",
    "    elif n % 2 == 0:\n",
    "        return False\n",
    "  \n",
    "    length = int(n**.5) + 1  # n**.5 is equal to sqrt(n)\n",
    "    for i in range(3, length, 2):\n",
    "        if n % i == 0:\n",
    "            return False\n",
    "\n",
    "    return True\n",
    "def sum_primes(l):\n",
    "    return sum(n for n in l if is_prime(n))"
   ]
  },
  {
   "cell_type": "code",
   "execution_count": 14,
   "id": "7c393021",
   "metadata": {},
   "outputs": [
    {
     "data": {
      "text/plain": [
       "17"
      ]
     },
     "execution_count": 14,
     "metadata": {},
     "output_type": "execute_result"
    }
   ],
   "source": [
    "sum_primes([1, 2, 3, 4, 5, 6, 7, 8, 9, 10])"
   ]
  },
  {
   "cell_type": "code",
   "execution_count": 15,
   "id": "5185ac5d",
   "metadata": {},
   "outputs": [
    {
     "data": {
      "text/plain": [
       "0"
      ]
     },
     "execution_count": 15,
     "metadata": {},
     "output_type": "execute_result"
    }
   ],
   "source": [
    "sum_primes([])"
   ]
  },
  {
   "cell_type": "code",
   "execution_count": null,
   "id": "a3c17337",
   "metadata": {},
   "outputs": [],
   "source": []
  }
 ],
 "metadata": {
  "kernelspec": {
   "display_name": "Python 3 (ipykernel)",
   "language": "python",
   "name": "python3"
  },
  "language_info": {
   "codemirror_mode": {
    "name": "ipython",
    "version": 3
   },
   "file_extension": ".py",
   "mimetype": "text/x-python",
   "name": "python",
   "nbconvert_exporter": "python",
   "pygments_lexer": "ipython3",
   "version": "3.9.7"
  }
 },
 "nbformat": 4,
 "nbformat_minor": 5
}
