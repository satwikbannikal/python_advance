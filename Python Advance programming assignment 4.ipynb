{
 "cells": [
  {
   "cell_type": "markdown",
   "id": "69629fc5",
   "metadata": {},
   "source": [
    "# 1. In mathematics, the Fibonacci numbers, commonly denoted Fn, form a sequence, called the Fibonacci sequence, such that each number is the sum of the two preceding ones, starting from 0 and 1:\n",
    "\n",
    "\n",
    "\n",
    "\n",
    "\n",
    "\n",
    "\n",
    "\n",
    "\n",
    "\n",
    "The beginning of the sequence is this:\n",
    "\n",
    "0, 1, 1, 2, 3, 5, 8, 13, 21, 34, 55, 89, 144, ...\n",
    "\n",
    "The function fastFib(num) returns the fibonacci number Fn, of the given num as an argument.\n",
    "\n",
    "Examples\n",
    "\n",
    "fib_fast(5) ➞ 5\n",
    "\n",
    "fib_fast(10) ➞ 55\n",
    "\n",
    "fib_fast(20) ➞ 6765\n",
    "\n",
    "fib_fast(50) ➞ 12586269025\n",
    "\n"
   ]
  },
  {
   "cell_type": "code",
   "execution_count": 2,
   "id": "24301577",
   "metadata": {},
   "outputs": [],
   "source": [
    "def fib_fast(num):\n",
    "    count = 0\n",
    "    sum = 0\n",
    "    f1 , f2 = 0,1\n",
    "    if num <= 0:\n",
    "        print(\"Not a positive number\")\n",
    "    elif num == 1:\n",
    "        print(\"nth Fibonacci series upto \",num, \":\")    \n",
    "        return num\n",
    "    else:\n",
    "        print(\"nth Fibonacci series upto \",num, \":\")\n",
    "        while count <= num:        \n",
    "            count+=1\n",
    "            if count > num:\n",
    "                return f1\n",
    "            fth = f1 + f2\n",
    "            f1,f2 = f2, fth"
   ]
  },
  {
   "cell_type": "code",
   "execution_count": 3,
   "id": "4b3b6ac7",
   "metadata": {},
   "outputs": [
    {
     "name": "stdout",
     "output_type": "stream",
     "text": [
      "nth Fibonacci series upto  10 :\n"
     ]
    },
    {
     "data": {
      "text/plain": [
       "55"
      ]
     },
     "execution_count": 3,
     "metadata": {},
     "output_type": "execute_result"
    }
   ],
   "source": [
    "fib_fast(10)"
   ]
  },
  {
   "cell_type": "code",
   "execution_count": 4,
   "id": "b127b7cd",
   "metadata": {},
   "outputs": [
    {
     "name": "stdout",
     "output_type": "stream",
     "text": [
      "nth Fibonacci series upto  20 :\n"
     ]
    },
    {
     "data": {
      "text/plain": [
       "6765"
      ]
     },
     "execution_count": 4,
     "metadata": {},
     "output_type": "execute_result"
    }
   ],
   "source": [
    "fib_fast(20)"
   ]
  },
  {
   "cell_type": "markdown",
   "id": "8663678f",
   "metadata": {},
   "source": [
    "# 2. Create a function that takes a strings characters as ASCII and returns each characters hexadecimal value as a string.\n",
    "\n",
    "Examples\n",
    "\n",
    "convert_to_hex(\"hello world\") ➞ \"68 65 6c 6c 6f 20 77 6f 72 6c 64\"\n",
    "\n",
    "convert_to_hex(\"Big Boi\") ➞ \"42 69 67 20 42 6f 69\"\n",
    "\n",
    "convert_to_hex(\"Marty Poppinson\") ➞ \"4d 61 72 74 79 20 50 6f 70 70 69 6e 73 6f 6e\"\n",
    "\n",
    "\n"
   ]
  },
  {
   "cell_type": "code",
   "execution_count": 5,
   "id": "de5c1dc3",
   "metadata": {},
   "outputs": [],
   "source": [
    "def convert_to_hex(str):\n",
    " \n",
    "    hexa = []\n",
    "    for i in range(len(str)):      \n",
    "        ch = str[i]      \n",
    "        in1 = ord(ch)\n",
    "        part = hex(in1).lstrip(\"0x\")\n",
    "        hexa.append(part)\n",
    "    return \" \".join(hexa)"
   ]
  },
  {
   "cell_type": "code",
   "execution_count": 6,
   "id": "678260e8",
   "metadata": {},
   "outputs": [
    {
     "data": {
      "text/plain": [
       "'68 65 6c 6c 6f 20 77 6f 72 6c 64'"
      ]
     },
     "execution_count": 6,
     "metadata": {},
     "output_type": "execute_result"
    }
   ],
   "source": [
    "convert_to_hex(\"hello world\")"
   ]
  },
  {
   "cell_type": "code",
   "execution_count": 7,
   "id": "f21d0c79",
   "metadata": {},
   "outputs": [
    {
     "data": {
      "text/plain": [
       "'42 69 67 20 42 6f 69'"
      ]
     },
     "execution_count": 7,
     "metadata": {},
     "output_type": "execute_result"
    }
   ],
   "source": [
    "convert_to_hex(\"Big Boi\")"
   ]
  },
  {
   "cell_type": "code",
   "execution_count": 8,
   "id": "c8a176f6",
   "metadata": {},
   "outputs": [
    {
     "data": {
      "text/plain": [
       "'4d 61 72 74 79 20 50 6f 70 70 69 6e 73 6f 6e'"
      ]
     },
     "execution_count": 8,
     "metadata": {},
     "output_type": "execute_result"
    }
   ],
   "source": [
    "convert_to_hex(\"Marty Poppinson\")"
   ]
  },
  {
   "cell_type": "markdown",
   "id": "ab8c5a56",
   "metadata": {},
   "source": [
    "# 3. Someone has attempted to censor my strings by replacing every vowel with a *, l*k* th*s. Luckily, I've been able to find the vowels that were removed.\n",
    "\n",
    "Given a censored string and a string of the censored vowels, return the original uncensored string.\n",
    "\n",
    "Example\n",
    "\n",
    "uncensor(\"Wh*r* d*d my v*w*ls g*?\", \"eeioeo\") ➞ \"Where did my vowels go?\"\n",
    "\n",
    "uncensor(\"abcd\", \"\") ➞ \"abcd\"\n",
    "\n",
    "uncensor(\"*PP*RC*S*\", \"UEAE\") ➞ \"UPPERCASE\"\n"
   ]
  },
  {
   "cell_type": "code",
   "execution_count": 9,
   "id": "86272c56",
   "metadata": {},
   "outputs": [],
   "source": [
    "def uncensor(string, vowels):\n",
    "    new = ''\n",
    "    counter = 0\n",
    "    for i in range(len(string)):\n",
    "        if string[i] == '*':            \n",
    "            new += vowels[counter]\n",
    "            counter += 1\n",
    "        else:\n",
    "            new += string[i]\n",
    "    return new"
   ]
  },
  {
   "cell_type": "code",
   "execution_count": 10,
   "id": "a7f0df29",
   "metadata": {},
   "outputs": [
    {
     "data": {
      "text/plain": [
       "'Whr dd my vwls g?'"
      ]
     },
     "execution_count": 10,
     "metadata": {},
     "output_type": "execute_result"
    }
   ],
   "source": [
    "uncensor(\"Whr dd my vwls g?\", \"eeioeo\")"
   ]
  },
  {
   "cell_type": "code",
   "execution_count": 11,
   "id": "a3f0c41b",
   "metadata": {},
   "outputs": [
    {
     "data": {
      "text/plain": [
       "'abcd'"
      ]
     },
     "execution_count": 11,
     "metadata": {},
     "output_type": "execute_result"
    }
   ],
   "source": [
    "uncensor(\"abcd\", \"\")"
   ]
  },
  {
   "cell_type": "code",
   "execution_count": 12,
   "id": "b789de96",
   "metadata": {},
   "outputs": [
    {
     "data": {
      "text/plain": [
       "'abcd'"
      ]
     },
     "execution_count": 12,
     "metadata": {},
     "output_type": "execute_result"
    }
   ],
   "source": [
    "uncensor(\"abcd\", \"\")"
   ]
  },
  {
   "cell_type": "markdown",
   "id": "71a96670",
   "metadata": {},
   "source": [
    "# 4. Write a function that takes an IP address and returns the domain name using PTR DNS records.\n",
    "\n",
    "Example\n",
    "\n",
    "get_domain(\"8.8.8.8\") ➞ \"dns.google\"\n",
    "\n",
    "get_domain(\"8.8.4.4\") ➞ \"dns.google\"\n",
    "\n"
   ]
  },
  {
   "cell_type": "code",
   "execution_count": 13,
   "id": "e44572d8",
   "metadata": {},
   "outputs": [
    {
     "name": "stdout",
     "output_type": "stream",
     "text": [
      "Requirement already satisfied: dnspython in c:\\users\\admin\\anaconda3\\lib\\site-packages (2.2.1)\n"
     ]
    }
   ],
   "source": [
    "!pip install dnspython"
   ]
  },
  {
   "cell_type": "code",
   "execution_count": 14,
   "id": "3b016673",
   "metadata": {},
   "outputs": [
    {
     "name": "stdout",
     "output_type": "stream",
     "text": [
      "Domain name using PTR DNS:\n",
      "dns.google\n",
      "dns.google\n"
     ]
    }
   ],
   "source": [
    "import socket\n",
    "def get_domain_name(ip_address):\n",
    "  result=socket.gethostbyaddr(ip_address)\n",
    "  return list(result)[0]\n",
    "print(\"Domain name using PTR DNS:\")\n",
    "print(get_domain_name(\"8.8.8.8\"))\n",
    "print(get_domain_name(\"8.8.4.4\"))"
   ]
  },
  {
   "cell_type": "code",
   "execution_count": 16,
   "id": "58071a78",
   "metadata": {},
   "outputs": [
    {
     "data": {
      "text/plain": [
       "'dns.google'"
      ]
     },
     "execution_count": 16,
     "metadata": {},
     "output_type": "execute_result"
    }
   ],
   "source": [
    "get_domain_name(\"8.8.8.8\")"
   ]
  },
  {
   "cell_type": "code",
   "execution_count": 17,
   "id": "58bd6b44",
   "metadata": {},
   "outputs": [
    {
     "data": {
      "text/plain": [
       "'dns.google'"
      ]
     },
     "execution_count": 17,
     "metadata": {},
     "output_type": "execute_result"
    }
   ],
   "source": [
    "get_domain_name(\"8.8.4.4\")"
   ]
  },
  {
   "cell_type": "markdown",
   "id": "a973d4f5",
   "metadata": {},
   "source": [
    "# 5. Create a function that takes an integer n and returns the factorial of factorials. See below examples for a better understanding:\n",
    "\n",
    "Examples\n",
    "\n",
    "fact_of_fact(4) ➞ 288\n",
    "# 4! * 3! * 2! * 1! = 288\n",
    "\n",
    "fact_of_fact(5) ➞ 34560\n",
    "\n",
    "fact_of_fact(6) ➞ 24883200\n"
   ]
  },
  {
   "cell_type": "code",
   "execution_count": 18,
   "id": "98b60a62",
   "metadata": {},
   "outputs": [],
   "source": [
    "def factorial(n):\n",
    "    fact = 1    \n",
    "    for num in range(2, n + 1):\n",
    "        fact = fact * num\n",
    "    return(fact)\n",
    "\n",
    "def fact_of_fact(num):\n",
    "    factorial_of_fact = 1\n",
    "    if num < 0:\n",
    "        print(\"Can not calculate Factorial of a negative number\")\n",
    "    elif num == 0:\n",
    "        print(\"Factorial of zero is 1\")\n",
    "    else:\n",
    "        for i in range(1,num+1):\n",
    "            factorial_of_fact = factorial_of_fact * factorial(i)\n",
    "    return \"Factorial of {} is {}\".format(num, factorial_of_fact)"
   ]
  },
  {
   "cell_type": "code",
   "execution_count": 19,
   "id": "2514aaf3",
   "metadata": {},
   "outputs": [
    {
     "data": {
      "text/plain": [
       "'Factorial of 5 is 34560'"
      ]
     },
     "execution_count": 19,
     "metadata": {},
     "output_type": "execute_result"
    }
   ],
   "source": [
    "fact_of_fact(5)"
   ]
  },
  {
   "cell_type": "code",
   "execution_count": 20,
   "id": "912ec268",
   "metadata": {},
   "outputs": [
    {
     "data": {
      "text/plain": [
       "'Factorial of 6 is 24883200'"
      ]
     },
     "execution_count": 20,
     "metadata": {},
     "output_type": "execute_result"
    }
   ],
   "source": [
    "fact_of_fact(6) "
   ]
  },
  {
   "cell_type": "code",
   "execution_count": null,
   "id": "cb55667d",
   "metadata": {},
   "outputs": [],
   "source": []
  }
 ],
 "metadata": {
  "kernelspec": {
   "display_name": "Python 3 (ipykernel)",
   "language": "python",
   "name": "python3"
  },
  "language_info": {
   "codemirror_mode": {
    "name": "ipython",
    "version": 3
   },
   "file_extension": ".py",
   "mimetype": "text/x-python",
   "name": "python",
   "nbconvert_exporter": "python",
   "pygments_lexer": "ipython3",
   "version": "3.9.7"
  }
 },
 "nbformat": 4,
 "nbformat_minor": 5
}
